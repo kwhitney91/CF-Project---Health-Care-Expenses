{
 "cells": [
  {
   "cell_type": "markdown",
   "id": "03d74517-728f-409b-b160-32dcf7188120",
   "metadata": {},
   "source": [
    "# 6.4 - Supervised Machine Learning\n",
    "1- Importing Libraries and Databases\n",
    "2- Cleaning Data\n",
    "3- Prep for regression analysis\n",
    "4- Regression Analysis"
   ]
  },
  {
   "cell_type": "markdown",
   "id": "3ed3d244-f82c-494b-8b94-df10f23ee9cd",
   "metadata": {},
   "source": [
    "1- Importing Libraries and Databases"
   ]
  },
  {
   "cell_type": "code",
   "execution_count": 2,
   "id": "53a7629a-229c-4af5-b9af-65b3f2c032e9",
   "metadata": {
    "tags": []
   },
   "outputs": [],
   "source": [
    "import pandas as pd\n",
    "import numpy as np\n",
    "import seaborn as sns\n",
    "import matplotlib\n",
    "import matplotlib.pyplot as plt\n",
    "import os\n",
    "import sklearn\n",
    "from sklearn.model_selection import train_test_split \n",
    "from sklearn.linear_model import LinearRegression\n",
    "from sklearn.metrics import mean_squared_error, r2_score"
   ]
  },
  {
   "cell_type": "code",
   "execution_count": 3,
   "id": "67a02978-9292-48a5-9a2c-269f8ef792c0",
   "metadata": {
    "tags": []
   },
   "outputs": [],
   "source": [
    "# This option ensures that the graphs you create are displayed within the notebook without the need to \"call\" them specifically.\n",
    "\n",
    "%matplotlib inline"
   ]
  },
  {
   "cell_type": "code",
   "execution_count": 4,
   "id": "caaa5d06-d750-416d-a204-e9e6a39851e9",
   "metadata": {
    "tags": []
   },
   "outputs": [],
   "source": [
    "path = \"C:/Users/kenwh/Achievement 6\""
   ]
  },
  {
   "cell_type": "code",
   "execution_count": 6,
   "id": "b18c3dfb-1265-4ae2-8074-d9a52a5c0d42",
   "metadata": {
    "tags": []
   },
   "outputs": [],
   "source": [
    "df= pd.read_csv(os.path.join(path, 'Data', 'Prepared Data', 'with_states_added.cvc'))"
   ]
  },
  {
   "cell_type": "markdown",
   "id": "32758f79-03a2-498f-87c8-5d762cff2ec3",
   "metadata": {},
   "source": [
    "# Clean/Check Data"
   ]
  },
  {
   "cell_type": "code",
   "execution_count": 8,
   "id": "864d1b90-6090-42d3-bbf8-87e3dd8a4927",
   "metadata": {
    "tags": []
   },
   "outputs": [
    {
     "data": {
      "text/plain": [
       "Index(['Unnamed: 0.1', 'Unnamed: 0', 'Age', 'Gender', 'Body Mass Index',\n",
       "       'Number of Children', 'Smoker', 'Region of USA', 'Expenses',\n",
       "       'Random_State'],\n",
       "      dtype='object')"
      ]
     },
     "execution_count": 8,
     "metadata": {},
     "output_type": "execute_result"
    }
   ],
   "source": [
    "df.columns"
   ]
  },
  {
   "cell_type": "code",
   "execution_count": 10,
   "id": "17874313-0732-4d97-8a71-83af4e45ff59",
   "metadata": {
    "tags": []
   },
   "outputs": [
    {
     "data": {
      "text/html": [
       "<div>\n",
       "<style scoped>\n",
       "    .dataframe tbody tr th:only-of-type {\n",
       "        vertical-align: middle;\n",
       "    }\n",
       "\n",
       "    .dataframe tbody tr th {\n",
       "        vertical-align: top;\n",
       "    }\n",
       "\n",
       "    .dataframe thead th {\n",
       "        text-align: right;\n",
       "    }\n",
       "</style>\n",
       "<table border=\"1\" class=\"dataframe\">\n",
       "  <thead>\n",
       "    <tr style=\"text-align: right;\">\n",
       "      <th></th>\n",
       "      <th>Unnamed: 0.1</th>\n",
       "      <th>Unnamed: 0</th>\n",
       "      <th>Age</th>\n",
       "      <th>Gender</th>\n",
       "      <th>Body Mass Index</th>\n",
       "      <th>Number of Children</th>\n",
       "      <th>Smoker</th>\n",
       "      <th>Region of USA</th>\n",
       "      <th>Expenses</th>\n",
       "      <th>Random_State</th>\n",
       "    </tr>\n",
       "  </thead>\n",
       "  <tbody>\n",
       "    <tr>\n",
       "      <th>0</th>\n",
       "      <td>0</td>\n",
       "      <td>0</td>\n",
       "      <td>19</td>\n",
       "      <td>female</td>\n",
       "      <td>27.900</td>\n",
       "      <td>0</td>\n",
       "      <td>yes</td>\n",
       "      <td>southwest</td>\n",
       "      <td>16884.92400</td>\n",
       "      <td>Arizona</td>\n",
       "    </tr>\n",
       "    <tr>\n",
       "      <th>1</th>\n",
       "      <td>1</td>\n",
       "      <td>1</td>\n",
       "      <td>18</td>\n",
       "      <td>male</td>\n",
       "      <td>33.770</td>\n",
       "      <td>1</td>\n",
       "      <td>no</td>\n",
       "      <td>southeast</td>\n",
       "      <td>1725.55230</td>\n",
       "      <td>Alabama</td>\n",
       "    </tr>\n",
       "    <tr>\n",
       "      <th>2</th>\n",
       "      <td>2</td>\n",
       "      <td>2</td>\n",
       "      <td>28</td>\n",
       "      <td>male</td>\n",
       "      <td>33.000</td>\n",
       "      <td>3</td>\n",
       "      <td>no</td>\n",
       "      <td>southeast</td>\n",
       "      <td>4449.46200</td>\n",
       "      <td>Arkansas</td>\n",
       "    </tr>\n",
       "    <tr>\n",
       "      <th>3</th>\n",
       "      <td>3</td>\n",
       "      <td>3</td>\n",
       "      <td>33</td>\n",
       "      <td>male</td>\n",
       "      <td>22.705</td>\n",
       "      <td>0</td>\n",
       "      <td>no</td>\n",
       "      <td>northwest</td>\n",
       "      <td>21984.47061</td>\n",
       "      <td>Alaska</td>\n",
       "    </tr>\n",
       "    <tr>\n",
       "      <th>4</th>\n",
       "      <td>4</td>\n",
       "      <td>4</td>\n",
       "      <td>32</td>\n",
       "      <td>male</td>\n",
       "      <td>28.880</td>\n",
       "      <td>0</td>\n",
       "      <td>no</td>\n",
       "      <td>northwest</td>\n",
       "      <td>3866.85520</td>\n",
       "      <td>Idaho</td>\n",
       "    </tr>\n",
       "    <tr>\n",
       "      <th>5</th>\n",
       "      <td>5</td>\n",
       "      <td>5</td>\n",
       "      <td>31</td>\n",
       "      <td>female</td>\n",
       "      <td>25.740</td>\n",
       "      <td>0</td>\n",
       "      <td>no</td>\n",
       "      <td>southeast</td>\n",
       "      <td>3756.62160</td>\n",
       "      <td>Florida</td>\n",
       "    </tr>\n",
       "    <tr>\n",
       "      <th>6</th>\n",
       "      <td>6</td>\n",
       "      <td>6</td>\n",
       "      <td>46</td>\n",
       "      <td>female</td>\n",
       "      <td>33.440</td>\n",
       "      <td>1</td>\n",
       "      <td>no</td>\n",
       "      <td>southeast</td>\n",
       "      <td>8240.58960</td>\n",
       "      <td>Georgia</td>\n",
       "    </tr>\n",
       "    <tr>\n",
       "      <th>7</th>\n",
       "      <td>7</td>\n",
       "      <td>7</td>\n",
       "      <td>37</td>\n",
       "      <td>female</td>\n",
       "      <td>27.740</td>\n",
       "      <td>3</td>\n",
       "      <td>no</td>\n",
       "      <td>northwest</td>\n",
       "      <td>7281.50560</td>\n",
       "      <td>Iowa</td>\n",
       "    </tr>\n",
       "    <tr>\n",
       "      <th>8</th>\n",
       "      <td>8</td>\n",
       "      <td>8</td>\n",
       "      <td>37</td>\n",
       "      <td>male</td>\n",
       "      <td>29.830</td>\n",
       "      <td>2</td>\n",
       "      <td>no</td>\n",
       "      <td>northeast</td>\n",
       "      <td>6406.41070</td>\n",
       "      <td>Connecticut</td>\n",
       "    </tr>\n",
       "    <tr>\n",
       "      <th>9</th>\n",
       "      <td>9</td>\n",
       "      <td>9</td>\n",
       "      <td>60</td>\n",
       "      <td>female</td>\n",
       "      <td>25.840</td>\n",
       "      <td>0</td>\n",
       "      <td>no</td>\n",
       "      <td>northwest</td>\n",
       "      <td>28923.13692</td>\n",
       "      <td>Minnesota</td>\n",
       "    </tr>\n",
       "  </tbody>\n",
       "</table>\n",
       "</div>"
      ],
      "text/plain": [
       "   Unnamed: 0.1  Unnamed: 0  Age  Gender  Body Mass Index  Number of Children  \\\n",
       "0             0           0   19  female           27.900                   0   \n",
       "1             1           1   18    male           33.770                   1   \n",
       "2             2           2   28    male           33.000                   3   \n",
       "3             3           3   33    male           22.705                   0   \n",
       "4             4           4   32    male           28.880                   0   \n",
       "5             5           5   31  female           25.740                   0   \n",
       "6             6           6   46  female           33.440                   1   \n",
       "7             7           7   37  female           27.740                   3   \n",
       "8             8           8   37    male           29.830                   2   \n",
       "9             9           9   60  female           25.840                   0   \n",
       "\n",
       "  Smoker Region of USA     Expenses Random_State  \n",
       "0    yes     southwest  16884.92400      Arizona  \n",
       "1     no     southeast   1725.55230      Alabama  \n",
       "2     no     southeast   4449.46200     Arkansas  \n",
       "3     no     northwest  21984.47061       Alaska  \n",
       "4     no     northwest   3866.85520        Idaho  \n",
       "5     no     southeast   3756.62160      Florida  \n",
       "6     no     southeast   8240.58960      Georgia  \n",
       "7     no     northwest   7281.50560         Iowa  \n",
       "8     no     northeast   6406.41070  Connecticut  \n",
       "9     no     northwest  28923.13692    Minnesota  "
      ]
     },
     "execution_count": 10,
     "metadata": {},
     "output_type": "execute_result"
    }
   ],
   "source": [
    "df.head(10)"
   ]
  },
  {
   "cell_type": "code",
   "execution_count": 11,
   "id": "6a25fee3-c045-487f-844f-6718c1ce2a84",
   "metadata": {
    "tags": []
   },
   "outputs": [],
   "source": [
    "columns_to_remove = ['Unnamed: 0.1', 'Unnamed: 0']\n",
    "df = df.drop(columns=columns_to_remove)"
   ]
  },
  {
   "cell_type": "code",
   "execution_count": 12,
   "id": "3544b9ee-cae4-4de3-8e15-0e196eb09b4d",
   "metadata": {
    "tags": []
   },
   "outputs": [
    {
     "data": {
      "text/html": [
       "<div>\n",
       "<style scoped>\n",
       "    .dataframe tbody tr th:only-of-type {\n",
       "        vertical-align: middle;\n",
       "    }\n",
       "\n",
       "    .dataframe tbody tr th {\n",
       "        vertical-align: top;\n",
       "    }\n",
       "\n",
       "    .dataframe thead th {\n",
       "        text-align: right;\n",
       "    }\n",
       "</style>\n",
       "<table border=\"1\" class=\"dataframe\">\n",
       "  <thead>\n",
       "    <tr style=\"text-align: right;\">\n",
       "      <th></th>\n",
       "      <th>Age</th>\n",
       "      <th>Gender</th>\n",
       "      <th>Body Mass Index</th>\n",
       "      <th>Number of Children</th>\n",
       "      <th>Smoker</th>\n",
       "      <th>Region of USA</th>\n",
       "      <th>Expenses</th>\n",
       "      <th>Random_State</th>\n",
       "    </tr>\n",
       "  </thead>\n",
       "  <tbody>\n",
       "    <tr>\n",
       "      <th>0</th>\n",
       "      <td>19</td>\n",
       "      <td>female</td>\n",
       "      <td>27.900</td>\n",
       "      <td>0</td>\n",
       "      <td>yes</td>\n",
       "      <td>southwest</td>\n",
       "      <td>16884.92400</td>\n",
       "      <td>Arizona</td>\n",
       "    </tr>\n",
       "    <tr>\n",
       "      <th>1</th>\n",
       "      <td>18</td>\n",
       "      <td>male</td>\n",
       "      <td>33.770</td>\n",
       "      <td>1</td>\n",
       "      <td>no</td>\n",
       "      <td>southeast</td>\n",
       "      <td>1725.55230</td>\n",
       "      <td>Alabama</td>\n",
       "    </tr>\n",
       "    <tr>\n",
       "      <th>2</th>\n",
       "      <td>28</td>\n",
       "      <td>male</td>\n",
       "      <td>33.000</td>\n",
       "      <td>3</td>\n",
       "      <td>no</td>\n",
       "      <td>southeast</td>\n",
       "      <td>4449.46200</td>\n",
       "      <td>Arkansas</td>\n",
       "    </tr>\n",
       "    <tr>\n",
       "      <th>3</th>\n",
       "      <td>33</td>\n",
       "      <td>male</td>\n",
       "      <td>22.705</td>\n",
       "      <td>0</td>\n",
       "      <td>no</td>\n",
       "      <td>northwest</td>\n",
       "      <td>21984.47061</td>\n",
       "      <td>Alaska</td>\n",
       "    </tr>\n",
       "    <tr>\n",
       "      <th>4</th>\n",
       "      <td>32</td>\n",
       "      <td>male</td>\n",
       "      <td>28.880</td>\n",
       "      <td>0</td>\n",
       "      <td>no</td>\n",
       "      <td>northwest</td>\n",
       "      <td>3866.85520</td>\n",
       "      <td>Idaho</td>\n",
       "    </tr>\n",
       "    <tr>\n",
       "      <th>5</th>\n",
       "      <td>31</td>\n",
       "      <td>female</td>\n",
       "      <td>25.740</td>\n",
       "      <td>0</td>\n",
       "      <td>no</td>\n",
       "      <td>southeast</td>\n",
       "      <td>3756.62160</td>\n",
       "      <td>Florida</td>\n",
       "    </tr>\n",
       "    <tr>\n",
       "      <th>6</th>\n",
       "      <td>46</td>\n",
       "      <td>female</td>\n",
       "      <td>33.440</td>\n",
       "      <td>1</td>\n",
       "      <td>no</td>\n",
       "      <td>southeast</td>\n",
       "      <td>8240.58960</td>\n",
       "      <td>Georgia</td>\n",
       "    </tr>\n",
       "    <tr>\n",
       "      <th>7</th>\n",
       "      <td>37</td>\n",
       "      <td>female</td>\n",
       "      <td>27.740</td>\n",
       "      <td>3</td>\n",
       "      <td>no</td>\n",
       "      <td>northwest</td>\n",
       "      <td>7281.50560</td>\n",
       "      <td>Iowa</td>\n",
       "    </tr>\n",
       "    <tr>\n",
       "      <th>8</th>\n",
       "      <td>37</td>\n",
       "      <td>male</td>\n",
       "      <td>29.830</td>\n",
       "      <td>2</td>\n",
       "      <td>no</td>\n",
       "      <td>northeast</td>\n",
       "      <td>6406.41070</td>\n",
       "      <td>Connecticut</td>\n",
       "    </tr>\n",
       "    <tr>\n",
       "      <th>9</th>\n",
       "      <td>60</td>\n",
       "      <td>female</td>\n",
       "      <td>25.840</td>\n",
       "      <td>0</td>\n",
       "      <td>no</td>\n",
       "      <td>northwest</td>\n",
       "      <td>28923.13692</td>\n",
       "      <td>Minnesota</td>\n",
       "    </tr>\n",
       "  </tbody>\n",
       "</table>\n",
       "</div>"
      ],
      "text/plain": [
       "   Age  Gender  Body Mass Index  Number of Children Smoker Region of USA  \\\n",
       "0   19  female           27.900                   0    yes     southwest   \n",
       "1   18    male           33.770                   1     no     southeast   \n",
       "2   28    male           33.000                   3     no     southeast   \n",
       "3   33    male           22.705                   0     no     northwest   \n",
       "4   32    male           28.880                   0     no     northwest   \n",
       "5   31  female           25.740                   0     no     southeast   \n",
       "6   46  female           33.440                   1     no     southeast   \n",
       "7   37  female           27.740                   3     no     northwest   \n",
       "8   37    male           29.830                   2     no     northeast   \n",
       "9   60  female           25.840                   0     no     northwest   \n",
       "\n",
       "      Expenses Random_State  \n",
       "0  16884.92400      Arizona  \n",
       "1   1725.55230      Alabama  \n",
       "2   4449.46200     Arkansas  \n",
       "3  21984.47061       Alaska  \n",
       "4   3866.85520        Idaho  \n",
       "5   3756.62160      Florida  \n",
       "6   8240.58960      Georgia  \n",
       "7   7281.50560         Iowa  \n",
       "8   6406.41070  Connecticut  \n",
       "9  28923.13692    Minnesota  "
      ]
     },
     "execution_count": 12,
     "metadata": {},
     "output_type": "execute_result"
    }
   ],
   "source": [
    "df.head(10)"
   ]
  },
  {
   "cell_type": "code",
   "execution_count": 13,
   "id": "604c2db8-43ab-4a97-a05e-95b44ef26e7f",
   "metadata": {
    "tags": []
   },
   "outputs": [
    {
     "data": {
      "text/plain": [
       "(1337, 8)"
      ]
     },
     "execution_count": 13,
     "metadata": {},
     "output_type": "execute_result"
    }
   ],
   "source": [
    "df.shape"
   ]
  },
  {
   "cell_type": "code",
   "execution_count": 14,
   "id": "d890a4a5-e65f-4062-8287-9259e165483c",
   "metadata": {
    "tags": []
   },
   "outputs": [
    {
     "data": {
      "text/plain": [
       "Age                   0\n",
       "Gender                0\n",
       "Body Mass Index       0\n",
       "Number of Children    0\n",
       "Smoker                0\n",
       "Region of USA         0\n",
       "Expenses              0\n",
       "Random_State          0\n",
       "dtype: int64"
      ]
     },
     "execution_count": 14,
     "metadata": {},
     "output_type": "execute_result"
    }
   ],
   "source": [
    "# Check for missing values\n",
    "\n",
    "df.isnull().sum()\n",
    "\n",
    "# No missing values to handle"
   ]
  },
  {
   "cell_type": "markdown",
   "id": "13d2b221-a307-4a19-b31c-77c95a4eba1c",
   "metadata": {},
   "source": [
    "Check for Duplicates"
   ]
  },
  {
   "cell_type": "code",
   "execution_count": 15,
   "id": "66927c77-3f00-4bcf-894c-25c4628ba6f6",
   "metadata": {
    "tags": []
   },
   "outputs": [],
   "source": [
    "dups = df.duplicated()\n"
   ]
  },
  {
   "cell_type": "code",
   "execution_count": 16,
   "id": "a4a75ac4-ba15-452c-b6ae-1ce756633b92",
   "metadata": {
    "tags": []
   },
   "outputs": [
    {
     "data": {
      "text/plain": [
       "(1337,)"
      ]
     },
     "execution_count": 16,
     "metadata": {},
     "output_type": "execute_result"
    }
   ],
   "source": [
    "dups.shape # No dups"
   ]
  },
  {
   "cell_type": "markdown",
   "id": "33ed10a4-b79c-42be-a025-c150e222c10a",
   "metadata": {},
   "source": [
    "Check for extreme values"
   ]
  },
  {
   "cell_type": "code",
   "execution_count": 18,
   "id": "93a6f234-07d7-4bcb-a46c-60f42e0f2a76",
   "metadata": {
    "tags": []
   },
   "outputs": [
    {
     "name": "stderr",
     "output_type": "stream",
     "text": [
      "C:\\Users\\kenwh\\AppData\\Local\\Temp\\ipykernel_32492\\1032870975.py:1: UserWarning: \n",
      "\n",
      "`distplot` is a deprecated function and will be removed in seaborn v0.14.0.\n",
      "\n",
      "Please adapt your code to use either `displot` (a figure-level function with\n",
      "similar flexibility) or `histplot` (an axes-level function for histograms).\n",
      "\n",
      "For a guide to updating your code to use the new functions, please see\n",
      "https://gist.github.com/mwaskom/de44147ed2974457ad6372750bbe5751\n",
      "\n",
      "  sns.distplot(df['Expenses'], bins=25) # Shows extreme values\n",
      "C:\\Users\\kenwh\\anaconda3\\Lib\\site-packages\\seaborn\\_oldcore.py:1119: FutureWarning: use_inf_as_na option is deprecated and will be removed in a future version. Convert inf values to NaN before operating instead.\n",
      "  with pd.option_context('mode.use_inf_as_na', True):\n"
     ]
    },
    {
     "data": {
      "text/plain": [
       "<Axes: xlabel='Expenses', ylabel='Density'>"
      ]
     },
     "execution_count": 18,
     "metadata": {},
     "output_type": "execute_result"
    },
    {
     "data": {
      "image/png": "[encoded data removed]",
      "text/plain": [
       "<Figure size 640x480 with 1 Axes>"
      ]
     },
     "metadata": {},
     "output_type": "display_data"
    }
   ],
   "source": [
    "sns.distplot(df['Expenses'], bins=25) # Shows extreme values"
   ]
  },
  {
   "cell_type": "markdown",
   "id": "ce19b14f-8e58-4ead-8b13-5d31be406424",
   "metadata": {},
   "source": [
    "No extreme values that need to be adressed"
   ]
  },
  {
   "cell_type": "code",
   "execution_count": 19,
   "id": "a96e40dd-eaa5-4301-969f-5c9cd0e714b7",
   "metadata": {
    "tags": []
   },
   "outputs": [
    {
     "name": "stdout",
     "output_type": "stream",
     "text": [
      "Mean Expenses: 13279.121486655948\n",
      "Median Expenses: 9386.1613\n",
      "Maximum Expenses: 63770.42801\n"
     ]
    }
   ],
   "source": [
    "# Calculate mean, median, and maximum of the 'Expenses' column\n",
    "mean_expenses = df['Expenses'].mean()\n",
    "median_expenses = df['Expenses'].median()\n",
    "max_expenses = df['Expenses'].max()\n",
    "\n",
    "# Print the results\n",
    "print(\"Mean Expenses:\", mean_expenses)\n",
    "print(\"Median Expenses:\", median_expenses)\n",
    "print(\"Maximum Expenses:\", max_expenses)"
   ]
  },
  {
   "cell_type": "markdown",
   "id": "b2084fcb-b07c-4205-b06a-9e711661c2a0",
   "metadata": {},
   "source": [
    "3. Data prep for regression analysis"
   ]
  },
  {
   "cell_type": "code",
   "execution_count": 22,
   "id": "2042fbb8-3de5-4914-ad18-837f3b09d35e",
   "metadata": {
    "tags": []
   },
   "outputs": [
    {
     "data": {
      "image/png": "[encoded data removed]",
      "text/plain": [
       "<Figure size 640x480 with 1 Axes>"
      ]
     },
     "metadata": {},
     "output_type": "display_data"
    }
   ],
   "source": [
    "# Create a scatterplot using matplotlib for another look at how the chosen variables plot against each other.\n",
    "\n",
    "df.plot(x = 'Body Mass Index', y='Expenses',style='o') # The style option creates a scatterplot; without it, we only have lines.\n",
    "plt.title('Body Max Index vs Expenses')  \n",
    "plt.xlabel('BMI')  \n",
    "plt.ylabel('Expenses')  \n",
    "plt.show()"
   ]
  },
  {
   "cell_type": "code",
   "execution_count": 23,
   "id": "ba1c7660-08f9-4966-a80a-0ea269526190",
   "metadata": {
    "tags": []
   },
   "outputs": [],
   "source": [
    "# Reshape the variables into NumPy arrays and put them into separate objects.\n",
    "\n",
    "X = df['Body Mass Index'].values.reshape(-1,1)\n",
    "y = df['Expenses'].values.reshape(-1,1)"
   ]
  },
  {
   "cell_type": "code",
   "execution_count": 24,
   "id": "87a28489-9720-4bda-8514-7cc8f851e7f7",
   "metadata": {
    "tags": []
   },
   "outputs": [
    {
     "data": {
      "text/plain": [
       "array([[27.9 ],\n",
       "       [33.77],\n",
       "       [33.  ],\n",
       "       ...,\n",
       "       [36.85],\n",
       "       [25.8 ],\n",
       "       [29.07]])"
      ]
     },
     "execution_count": 24,
     "metadata": {},
     "output_type": "execute_result"
    }
   ],
   "source": [
    "X"
   ]
  },
  {
   "cell_type": "code",
   "execution_count": 25,
   "id": "65c9314c-657f-4df8-8235-3a7d313d2143",
   "metadata": {
    "tags": []
   },
   "outputs": [
    {
     "data": {
      "text/plain": [
       "array([[16884.924 ],\n",
       "       [ 1725.5523],\n",
       "       [ 4449.462 ],\n",
       "       ...,\n",
       "       [ 1629.8335],\n",
       "       [ 2007.945 ],\n",
       "       [29141.3603]])"
      ]
     },
     "execution_count": 25,
     "metadata": {},
     "output_type": "execute_result"
    }
   ],
   "source": [
    "y"
   ]
  },
  {
   "cell_type": "code",
   "execution_count": 26,
   "id": "9dd528d0-05a1-4c4c-bf59-11eca08632bd",
   "metadata": {
    "tags": []
   },
   "outputs": [],
   "source": [
    "# Split data into a training set and a test set.\n",
    "\n",
    "X_train, X_test, y_train, y_test = train_test_split(X, y, test_size=0.3, random_state=0)"
   ]
  },
  {
   "cell_type": "markdown",
   "id": "8ff52d0c-ff2f-483c-b0aa-c4cb29dd5272",
   "metadata": {},
   "source": [
    "# 4- Conduct Regression Analysis"
   ]
  },
  {
   "cell_type": "code",
   "execution_count": 28,
   "id": "69fb7b76-0680-4e1f-afe6-ac9796005e0c",
   "metadata": {
    "tags": []
   },
   "outputs": [],
   "source": [
    "# Create a regression object.\n",
    "\n",
    "regression = LinearRegression() \n",
    "# This is the regression object, which will be fit onto the training set."
   ]
  },
  {
   "cell_type": "code",
   "execution_count": 29,
   "id": "415e81a3-8028-432e-a5e9-ba187b665b15",
   "metadata": {
    "tags": []
   },
   "outputs": [
    {
     "data": {
      "text/html": [
       "<style>#sk-container-id-1 {color: black;}#sk-container-id-1 pre{padding: 0;}#sk-container-id-1 div.sk-toggleable {background-color: white;}#sk-container-id-1 label.sk-toggleable__label {cursor: pointer;display: block;width: 100%;margin-bottom: 0;padding: 0.3em;box-sizing: border-box;text-align: center;}#sk-container-id-1 label.sk-toggleable__label-arrow:before {content: \"▸\";float: left;margin-right: 0.25em;color: #696969;}#sk-container-id-1 label.sk-toggleable__label-arrow:hover:before {color: black;}#sk-container-id-1 div.sk-estimator:hover label.sk-toggleable__label-arrow:before {color: black;}#sk-container-id-1 div.sk-toggleable__content {max-height: 0;max-width: 0;overflow: hidden;text-align: left;background-color: #f0f8ff;}#sk-container-id-1 div.sk-toggleable__content pre {margin: 0.2em;color: black;border-radius: 0.25em;background-color: #f0f8ff;}#sk-container-id-1 input.sk-toggleable__control:checked~div.sk-toggleable__content {max-height: 200px;max-width: 100%;overflow: auto;}#sk-container-id-1 input.sk-toggleable__control:checked~label.sk-toggleable__label-arrow:before {content: \"▾\";}#sk-container-id-1 div.sk-estimator input.sk-toggleable__control:checked~label.sk-toggleable__label {background-color: #d4ebff;}#sk-container-id-1 div.sk-label input.sk-toggleable__control:checked~label.sk-toggleable__label {background-color: #d4ebff;}#sk-container-id-1 input.sk-hidden--visually {border: 0;clip: rect(1px 1px 1px 1px);clip: rect(1px, 1px, 1px, 1px);height: 1px;margin: -1px;overflow: hidden;padding: 0;position: absolute;width: 1px;}#sk-container-id-1 div.sk-estimator {font-family: monospace;background-color: #f0f8ff;border: 1px dotted black;border-radius: 0.25em;box-sizing: border-box;margin-bottom: 0.5em;}#sk-container-id-1 div.sk-estimator:hover {background-color: #d4ebff;}#sk-container-id-1 div.sk-parallel-item::after {content: \"\";width: 100%;border-bottom: 1px solid gray;flex-grow: 1;}#sk-container-id-1 div.sk-label:hover label.sk-toggleable__label {background-color: #d4ebff;}#sk-container-id-1 div.sk-serial::before {content: \"\";position: absolute;border-left: 1px solid gray;box-sizing: border-box;top: 0;bottom: 0;left: 50%;z-index: 0;}#sk-container-id-1 div.sk-serial {display: flex;flex-direction: column;align-items: center;background-color: white;padding-right: 0.2em;padding-left: 0.2em;position: relative;}#sk-container-id-1 div.sk-item {position: relative;z-index: 1;}#sk-container-id-1 div.sk-parallel {display: flex;align-items: stretch;justify-content: center;background-color: white;position: relative;}#sk-container-id-1 div.sk-item::before, #sk-container-id-1 div.sk-parallel-item::before {content: \"\";position: absolute;border-left: 1px solid gray;box-sizing: border-box;top: 0;bottom: 0;left: 50%;z-index: -1;}#sk-container-id-1 div.sk-parallel-item {display: flex;flex-direction: column;z-index: 1;position: relative;background-color: white;}#sk-container-id-1 div.sk-parallel-item:first-child::after {align-self: flex-end;width: 50%;}#sk-container-id-1 div.sk-parallel-item:last-child::after {align-self: flex-start;width: 50%;}#sk-container-id-1 div.sk-parallel-item:only-child::after {width: 0;}#sk-container-id-1 div.sk-dashed-wrapped {border: 1px dashed gray;margin: 0 0.4em 0.5em 0.4em;box-sizing: border-box;padding-bottom: 0.4em;background-color: white;}#sk-container-id-1 div.sk-label label {font-family: monospace;font-weight: bold;display: inline-block;line-height: 1.2em;}#sk-container-id-1 div.sk-label-container {text-align: center;}#sk-container-id-1 div.sk-container {/* jupyter's `normalize.less` sets `[hidden] { display: none; }` but bootstrap.min.css set `[hidden] { display: none !important; }` so we also need the `!important` here to be able to override the default hidden behavior on the sphinx rendered scikit-learn.org. See: https://github.com/scikit-learn/scikit-learn/issues/21755 */display: inline-block !important;position: relative;}#sk-container-id-1 div.sk-text-repr-fallback {display: none;}</style><div id=\"sk-container-id-1\" class=\"sk-top-container\"><div class=\"sk-text-repr-fallback\"><pre>LinearRegression()</pre><b>In a Jupyter environment, please rerun this cell to show the HTML representation or trust the notebook. <br />On GitHub, the HTML representation is unable to render, please try loading this page with nbviewer.org.</b></div><div class=\"sk-container\" hidden><div class=\"sk-item\"><div class=\"sk-estimator sk-toggleable\"><input class=\"sk-toggleable__control sk-hidden--visually\" id=\"sk-estimator-id-1\" type=\"checkbox\" checked><label for=\"sk-estimator-id-1\" class=\"sk-toggleable__label sk-toggleable__label-arrow\">LinearRegression</label><div class=\"sk-toggleable__content\"><pre>LinearRegression()</pre></div></div></div></div></div>"
      ],
      "text/plain": [
       "LinearRegression()"
      ]
     },
     "execution_count": 29,
     "metadata": {},
     "output_type": "execute_result"
    }
   ],
   "source": [
    "# Fit the regression object onto the training set.\n",
    "\n",
    "regression.fit(X_train, y_train)"
   ]
  },
  {
   "cell_type": "code",
   "execution_count": 30,
   "id": "a05eac97-0be3-4e51-8b56-221d3db97e3c",
   "metadata": {
    "tags": []
   },
   "outputs": [],
   "source": [
    "# Predict the values of y using X.\n",
    "\n",
    "y_predicted = regression.predict(X_test)"
   ]
  },
  {
   "cell_type": "code",
   "execution_count": 31,
   "id": "41947d06-e4c1-4559-ad41-2134407bd107",
   "metadata": {
    "tags": []
   },
   "outputs": [
    {
     "data": {
      "image/png": "[encoded data removed]",
      "text/plain": [
       "<Figure size 640x480 with 1 Axes>"
      ]
     },
     "metadata": {},
     "output_type": "display_data"
    }
   ],
   "source": [
    "# Create a plot that shows the regression line from the model on the test set.\n",
    "\n",
    "plot_test = plt\n",
    "plot_test.scatter(X_test, y_test, color='gray', s = 15)\n",
    "plot_test.plot(X_test, y_predicted, color='red', linewidth =3)\n",
    "plot_test.title('Body Mass Index vs Expenses (Test set)')\n",
    "plot_test.xlabel('BMI')\n",
    "plot_test.ylabel('Expenses')\n",
    "plot_test.show()"
   ]
  },
  {
   "cell_type": "code",
   "execution_count": 32,
   "id": "6c22f2b7-89dd-46b1-a4f6-2a5303126345",
   "metadata": {
    "tags": []
   },
   "outputs": [],
   "source": [
    "# Create objects that contain the model summary statistics.\n",
    "\n",
    "rmse = mean_squared_error(y_test, y_predicted) # This is the mean squared error\n",
    "r2 = r2_score(y_test, y_predicted) # This is the R2 score. "
   ]
  },
  {
   "cell_type": "code",
   "execution_count": 33,
   "id": "6fe967af-3021-4cd3-9496-56affa553e18",
   "metadata": {
    "tags": []
   },
   "outputs": [
    {
     "name": "stdout",
     "output_type": "stream",
     "text": [
      "Slope: [[301.18863244]]\n",
      "Mean squared error:  154131658.7511644\n",
      "R2 score:  0.05879287466812988\n"
     ]
    }
   ],
   "source": [
    "# Print the model summary statistics. This is where you evaluate the performance of the model.\n",
    "\n",
    "print('Slope:' ,regression.coef_)\n",
    "print('Mean squared error: ', rmse)\n",
    "print('R2 score: ', r2)"
   ]
  },
  {
   "cell_type": "code",
   "execution_count": 34,
   "id": "fc92b542-41e8-4fa4-88bb-75d67aeb174c",
   "metadata": {
    "tags": []
   },
   "outputs": [
    {
     "data": {
      "text/plain": [
       "array([[15772.62039644],\n",
       "       [12625.19918748],\n",
       "       [13221.55267971],\n",
       "       [12890.24518403],\n",
       "       [ 9215.74386831],\n",
       "       [ 9101.29218798],\n",
       "       [11705.06791539],\n",
       "       [ 9742.82397507],\n",
       "       [11533.3903949 ],\n",
       "       [14766.6503641 ],\n",
       "       [13155.29118057],\n",
       "       [11929.45344656],\n",
       "       [13250.16559979],\n",
       "       [12757.72218576],\n",
       "       [11580.07463293],\n",
       "       [18953.17235496],\n",
       "       [11876.74543588],\n",
       "       [13564.90772068],\n",
       "       [ 8843.77590725],\n",
       "       [13707.97232109],\n",
       "       [13221.55267971],\n",
       "       [12423.40280375],\n",
       "       [12935.42347889],\n",
       "       [13221.55267971],\n",
       "       [13950.4291702 ],\n",
       "       [15024.16664484],\n",
       "       [ 8986.84050766],\n",
       "       [13387.20642755],\n",
       "       [11531.88445174],\n",
       "       [14509.13408337],\n",
       "       [12420.39091743],\n",
       "       [16700.28138434],\n",
       "       [10435.55782968],\n",
       "       [15013.6250427 ],\n",
       "       [ 9959.67979043],\n",
       "       [13817.90617193],\n",
       "       [15275.65915292],\n",
       "       [14742.55527351],\n",
       "       [ 9673.55058961],\n",
       "       [13808.87051296],\n",
       "       [13021.26223914],\n",
       "       [12194.4994431 ],\n",
       "       [12620.681358  ],\n",
       "       [14909.71496451],\n",
       "       [14878.09015811],\n",
       "       [14878.09015811],\n",
       "       [12161.36869353],\n",
       "       [13718.51392323],\n",
       "       [15676.24003406],\n",
       "       [10617.7769523 ],\n",
       "       [11247.26119409],\n",
       "       [12191.48755678],\n",
       "       [12212.57076105],\n",
       "       [15540.70514946],\n",
       "       [16402.10463823],\n",
       "       [11619.22915515],\n",
       "       [13751.64467279],\n",
       "       [11733.68083547],\n",
       "       [14049.82141891],\n",
       "       [15997.0059276 ],\n",
       "       [10245.80899124],\n",
       "       [10303.0348314 ],\n",
       "       [12391.77799735],\n",
       "       [14652.19868378],\n",
       "       [13164.32683954],\n",
       "       [16468.36613737],\n",
       "       [ 9983.77488102],\n",
       "       [14137.16612231],\n",
       "       [10372.30821686],\n",
       "       [13078.4880793 ],\n",
       "       [14646.17491113],\n",
       "       [10961.13199328],\n",
       "       [14977.48240681],\n",
       "       [14878.09015811],\n",
       "       [11018.35783344],\n",
       "       [12077.03587645],\n",
       "       [10495.79555616],\n",
       "       [13022.7681823 ],\n",
       "       [13718.51392323],\n",
       "       [11190.03535393],\n",
       "       [12449.00383751],\n",
       "       [12391.77799735],\n",
       "       [11819.51959572],\n",
       "       [12875.18575241],\n",
       "       [14308.8436428 ],\n",
       "       [11399.36145347],\n",
       "       [13021.26223914],\n",
       "       [13135.71391946],\n",
       "       [12061.97644483],\n",
       "       [14411.24777783],\n",
       "       [14966.94080467],\n",
       "       [10446.09943181],\n",
       "       [ 8958.22758758],\n",
       "       [12161.36869353],\n",
       "       [14223.00488256],\n",
       "       [13278.77851987],\n",
       "       [12019.81003629],\n",
       "       [12019.81003629],\n",
       "       [13650.74648093],\n",
       "       [15917.19094001],\n",
       "       [12706.52011824],\n",
       "       [11819.51959572],\n",
       "       [13718.51392323],\n",
       "       [14149.21366761],\n",
       "       [13417.32529079],\n",
       "       [14082.95216847],\n",
       "       [11418.93871458],\n",
       "       [14251.61780264],\n",
       "       [14280.23072272],\n",
       "       [13658.27619674],\n",
       "       [14381.12891459],\n",
       "       [17097.85037916],\n",
       "       [12477.61675759],\n",
       "       [10360.26067157],\n",
       "       [11447.55163466],\n",
       "       [12134.26171661],\n",
       "       [12220.10047686],\n",
       "       [11790.90667564],\n",
       "       [14260.65346161],\n",
       "       [16254.52220834],\n",
       "       [14613.04416156],\n",
       "       [12992.64931906],\n",
       "       [11447.55163466],\n",
       "       [14260.65346161],\n",
       "       [12061.97644483],\n",
       "       [10917.45964157],\n",
       "       [11647.84207523],\n",
       "       [10675.00279246],\n",
       "       [15796.71548703],\n",
       "       [10706.62759887],\n",
       "       [14778.6979094 ],\n",
       "       [13950.4291702 ],\n",
       "       [11647.84207523],\n",
       "       [12191.48755678],\n",
       "       [14260.65346161],\n",
       "       [13055.89893187],\n",
       "       [11200.57695606],\n",
       "       [11333.09995433],\n",
       "       [10670.48496298],\n",
       "       [11104.19659368],\n",
       "       [14509.13408337],\n",
       "       [12849.58471865],\n",
       "       [10339.1774673 ],\n",
       "       [13650.74648093],\n",
       "       [11390.3257945 ],\n",
       "       [12483.64053024],\n",
       "       [16733.41213391],\n",
       "       [10760.84155271],\n",
       "       [13879.64984158],\n",
       "       [13507.68188052],\n",
       "       [11101.18470736],\n",
       "       [16468.36613737],\n",
       "       [12423.40280375],\n",
       "       [12634.23484646],\n",
       "       [12754.71029943],\n",
       "       [13078.4880793 ],\n",
       "       [13078.4880793 ],\n",
       "       [12625.19918748],\n",
       "       [12105.64879653],\n",
       "       [13994.10152191],\n",
       "       [10818.06739287],\n",
       "       [16335.84313909],\n",
       "       [11562.00331499],\n",
       "       [12061.97644483],\n",
       "       [13236.61211133],\n",
       "       [13908.26276166],\n",
       "       [10315.0823767 ],\n",
       "       [10560.55111214],\n",
       "       [11876.74543588],\n",
       "       [ 9788.00226994],\n",
       "       [13765.19816125],\n",
       "       [12820.97179857],\n",
       "       [13021.26223914],\n",
       "       [14579.91341199],\n",
       "       [12905.30461565],\n",
       "       [13917.29842063],\n",
       "       [13336.00436003],\n",
       "       [10360.26067157],\n",
       "       [12763.74595841],\n",
       "       [10217.19607116],\n",
       "       [17462.28862441],\n",
       "       [12757.72218576],\n",
       "       [14022.71444199],\n",
       "       [10405.43896643],\n",
       "       [10531.93819206],\n",
       "       [15495.5268546 ],\n",
       "       [13751.64467279],\n",
       "       [11730.66894915],\n",
       "       [12248.71339694],\n",
       "       [14852.48912435],\n",
       "       [13364.61728011],\n",
       "       [12790.85293532],\n",
       "       [11881.26326537],\n",
       "       [11134.31545693],\n",
       "       [13628.1573335 ],\n",
       "       [11549.95576969],\n",
       "       [12763.74595841],\n",
       "       [14709.42452394],\n",
       "       [14878.09015811],\n",
       "       [14712.43641027],\n",
       "       [13507.68188052],\n",
       "       [10107.26222032],\n",
       "       [13650.74648093],\n",
       "       [11580.07463293],\n",
       "       [14944.35165724],\n",
       "       [16549.68706812],\n",
       "       [ 9759.38934986],\n",
       "       [13477.56301728],\n",
       "       [12784.82916268],\n",
       "       [11134.31545693],\n",
       "       [12677.90719816],\n",
       "       [16468.36613737],\n",
       "       [16655.10308948],\n",
       "       [13838.9893762 ],\n",
       "       [12453.521667  ],\n",
       "       [13917.29842063],\n",
       "       [12077.03587645],\n",
       "       [10446.09943181],\n",
       "       [12161.36869353],\n",
       "       [19615.78734632],\n",
       "       [13221.55267971],\n",
       "       [10789.45447279],\n",
       "       [11664.40745001],\n",
       "       [12875.18575241],\n",
       "       [14194.39196248],\n",
       "       [15195.84416532],\n",
       "       [15076.87465551],\n",
       "       [11369.24259023],\n",
       "       [13507.68188052],\n",
       "       [11531.88445174],\n",
       "       [12105.64879653],\n",
       "       [13983.55991977],\n",
       "       [14909.71496451],\n",
       "       [16170.18939126],\n",
       "       [10360.26067157],\n",
       "       [10675.00279246],\n",
       "       [13450.45604036],\n",
       "       [13135.71391946],\n",
       "       [11190.03535393],\n",
       "       [15507.5743999 ],\n",
       "       [12754.71029943],\n",
       "       [ 9559.09890929],\n",
       "       [14953.38731621],\n",
       "       [17859.85761922],\n",
       "       [11101.18470736],\n",
       "       [13507.68188052],\n",
       "       [14823.87620427],\n",
       "       [12992.64931906],\n",
       "       [12477.61675759],\n",
       "       [13122.160431  ],\n",
       "       [10827.10305184],\n",
       "       [13477.56301728],\n",
       "       [14679.3056607 ],\n",
       "       [11333.09995433],\n",
       "       [11991.19711621],\n",
       "       [10703.61571254],\n",
       "       [11134.31545693],\n",
       "       [12823.98368489],\n",
       "       [11819.51959572],\n",
       "       [10769.87721168],\n",
       "       [ 9908.47772291],\n",
       "       [12757.72218576],\n",
       "       [13421.84312028],\n",
       "       [11562.00331499],\n",
       "       [12334.55215718],\n",
       "       [11664.40745001],\n",
       "       [11339.12372698],\n",
       "       [12964.03639898],\n",
       "       [ 9816.61519002],\n",
       "       [14149.21366761],\n",
       "       [14823.87620427],\n",
       "       [12105.64879653],\n",
       "       [11962.58419613],\n",
       "       [11848.1325158 ],\n",
       "       [14381.12891459],\n",
       "       [13650.74648093],\n",
       "       [13965.48860182],\n",
       "       [14566.35992353],\n",
       "       [12658.32993705],\n",
       "       [12327.02244137],\n",
       "       [14108.55320223],\n",
       "       [15573.83589903],\n",
       "       [13748.63278647],\n",
       "       [12105.64879653],\n",
       "       [14938.32788459],\n",
       "       [13628.1573335 ],\n",
       "       [14149.21366761],\n",
       "       [13598.03847025],\n",
       "       [12992.64931906],\n",
       "       [15653.65088663],\n",
       "       [ 9988.29271051],\n",
       "       [14738.03744402],\n",
       "       [11562.00331499],\n",
       "       [15474.44365033],\n",
       "       [12563.45551784],\n",
       "       [13536.2948006 ],\n",
       "       [12875.18575241],\n",
       "       [13598.03847025],\n",
       "       [12965.54234214],\n",
       "       [14682.31754702],\n",
       "       [12992.64931906],\n",
       "       [14594.97284362],\n",
       "       [11549.95576969],\n",
       "       [11233.70770563],\n",
       "       [12019.81003629],\n",
       "       [11676.45499531],\n",
       "       [13486.59867625],\n",
       "       [10140.39296989],\n",
       "       [13793.81108134],\n",
       "       [12293.89169181],\n",
       "       [11821.02553888],\n",
       "       [12363.16507727],\n",
       "       [10531.93819206],\n",
       "       [11037.93509455],\n",
       "       [10194.60692373],\n",
       "       [15405.17026487],\n",
       "       [11104.19659368],\n",
       "       [13585.99092496],\n",
       "       [14140.17800864],\n",
       "       [12784.82916268],\n",
       "       [14194.39196248],\n",
       "       [13536.2948006 ],\n",
       "       [10013.89374427],\n",
       "       [13817.90617193],\n",
       "       [11941.50099186],\n",
       "       [10637.35421341],\n",
       "       [13959.46482918],\n",
       "       [13078.4880793 ],\n",
       "       [10703.61571254],\n",
       "       [10388.87359165],\n",
       "       [11104.19659368],\n",
       "       [12260.76094224],\n",
       "       [12823.98368489],\n",
       "       [10074.13147075],\n",
       "       [15281.68292557],\n",
       "       [12691.46068662],\n",
       "       [10417.48651173],\n",
       "       [11188.52941077],\n",
       "       [13364.61728011],\n",
       "       [10474.71235189],\n",
       "       [12592.06843792],\n",
       "       [14652.19868378],\n",
       "       [11390.3257945 ],\n",
       "       [11565.01520131],\n",
       "       [13086.01779511],\n",
       "       [11670.43122266],\n",
       "       [12790.85293532],\n",
       "       [10531.93819206],\n",
       "       [12019.81003629],\n",
       "       [13164.32683954],\n",
       "       [15706.3588973 ],\n",
       "       [15275.65915292],\n",
       "       [14165.77904239],\n",
       "       [13287.81417884],\n",
       "       [13078.4880793 ],\n",
       "       [14079.94028215],\n",
       "       [16468.36613737],\n",
       "       [15110.00540508],\n",
       "       [13354.07567798],\n",
       "       [13450.45604036],\n",
       "       [12162.8746367 ],\n",
       "       [12092.09530807],\n",
       "       [13336.00436003],\n",
       "       [14823.87620427],\n",
       "       [14082.95216847],\n",
       "       [10331.64775149],\n",
       "       [11218.64827401],\n",
       "       [11218.64827401],\n",
       "       [14537.74700345],\n",
       "       [14509.13408337],\n",
       "       [12506.22967767],\n",
       "       [16402.10463823],\n",
       "       [11619.22915515],\n",
       "       [14909.71496451],\n",
       "       [10041.00072118],\n",
       "       [16225.90928826],\n",
       "       [11333.09995433],\n",
       "       [14079.94028215],\n",
       "       [10796.9841886 ],\n",
       "       [12845.06688916],\n",
       "       [13278.77851987],\n",
       "       [12506.22967767],\n",
       "       [12964.03639898],\n",
       "       [13822.42400142],\n",
       "       [14613.04416156],\n",
       "       [13049.87515922],\n",
       "       [10345.20123994],\n",
       "       [ 9873.84103018],\n",
       "       [ 9301.58262855],\n",
       "       [12248.71339694],\n",
       "       [15164.21935892],\n",
       "       [12935.42347889],\n",
       "       [11489.7180432 ],\n",
       "       [11465.62295261],\n",
       "       [16225.90928826],\n",
       "       [17694.20387138],\n",
       "       [13965.48860182],\n",
       "       [13135.71391946],\n",
       "       [15308.78990249],\n",
       "       [14909.71496451],\n",
       "       [12792.35887849],\n",
       "       [12277.32631702]])"
      ]
     },
     "execution_count": 34,
     "metadata": {},
     "output_type": "execute_result"
    }
   ],
   "source": [
    "y_predicted"
   ]
  },
  {
   "cell_type": "code",
   "execution_count": 35,
   "id": "207d0e2b-37c9-4628-b11b-69aad71b1609",
   "metadata": {
    "tags": []
   },
   "outputs": [
    {
     "data": {
      "text/html": [
       "<div>\n",
       "<style scoped>\n",
       "    .dataframe tbody tr th:only-of-type {\n",
       "        vertical-align: middle;\n",
       "    }\n",
       "\n",
       "    .dataframe tbody tr th {\n",
       "        vertical-align: top;\n",
       "    }\n",
       "\n",
       "    .dataframe thead th {\n",
       "        text-align: right;\n",
       "    }\n",
       "</style>\n",
       "<table border=\"1\" class=\"dataframe\">\n",
       "  <thead>\n",
       "    <tr style=\"text-align: right;\">\n",
       "      <th></th>\n",
       "      <th>Actual</th>\n",
       "      <th>Predicted</th>\n",
       "    </tr>\n",
       "  </thead>\n",
       "  <tbody>\n",
       "    <tr>\n",
       "      <th>0</th>\n",
       "      <td>1633.96180</td>\n",
       "      <td>15772.620396</td>\n",
       "    </tr>\n",
       "    <tr>\n",
       "      <th>1</th>\n",
       "      <td>8547.69130</td>\n",
       "      <td>12625.199187</td>\n",
       "    </tr>\n",
       "    <tr>\n",
       "      <th>2</th>\n",
       "      <td>9290.13950</td>\n",
       "      <td>13221.552680</td>\n",
       "    </tr>\n",
       "    <tr>\n",
       "      <th>3</th>\n",
       "      <td>32548.34050</td>\n",
       "      <td>12890.245184</td>\n",
       "    </tr>\n",
       "    <tr>\n",
       "      <th>4</th>\n",
       "      <td>9644.25250</td>\n",
       "      <td>9215.743868</td>\n",
       "    </tr>\n",
       "    <tr>\n",
       "      <th>5</th>\n",
       "      <td>2680.94930</td>\n",
       "      <td>9101.292188</td>\n",
       "    </tr>\n",
       "    <tr>\n",
       "      <th>6</th>\n",
       "      <td>2198.18985</td>\n",
       "      <td>11705.067915</td>\n",
       "    </tr>\n",
       "    <tr>\n",
       "      <th>7</th>\n",
       "      <td>1241.56500</td>\n",
       "      <td>9742.823975</td>\n",
       "    </tr>\n",
       "    <tr>\n",
       "      <th>8</th>\n",
       "      <td>2710.82855</td>\n",
       "      <td>11533.390395</td>\n",
       "    </tr>\n",
       "    <tr>\n",
       "      <th>9</th>\n",
       "      <td>12235.83920</td>\n",
       "      <td>14766.650364</td>\n",
       "    </tr>\n",
       "    <tr>\n",
       "      <th>10</th>\n",
       "      <td>8280.62270</td>\n",
       "      <td>13155.291181</td>\n",
       "    </tr>\n",
       "    <tr>\n",
       "      <th>11</th>\n",
       "      <td>17043.34140</td>\n",
       "      <td>11929.453447</td>\n",
       "    </tr>\n",
       "    <tr>\n",
       "      <th>12</th>\n",
       "      <td>13974.45555</td>\n",
       "      <td>13250.165600</td>\n",
       "    </tr>\n",
       "    <tr>\n",
       "      <th>13</th>\n",
       "      <td>8219.20390</td>\n",
       "      <td>12757.722186</td>\n",
       "    </tr>\n",
       "    <tr>\n",
       "      <th>14</th>\n",
       "      <td>5472.44900</td>\n",
       "      <td>11580.074633</td>\n",
       "    </tr>\n",
       "    <tr>\n",
       "      <th>15</th>\n",
       "      <td>2438.05520</td>\n",
       "      <td>18953.172355</td>\n",
       "    </tr>\n",
       "    <tr>\n",
       "      <th>16</th>\n",
       "      <td>5267.81815</td>\n",
       "      <td>11876.745436</td>\n",
       "    </tr>\n",
       "    <tr>\n",
       "      <th>17</th>\n",
       "      <td>3490.54910</td>\n",
       "      <td>13564.907721</td>\n",
       "    </tr>\n",
       "    <tr>\n",
       "      <th>18</th>\n",
       "      <td>6640.54485</td>\n",
       "      <td>8843.775907</td>\n",
       "    </tr>\n",
       "    <tr>\n",
       "      <th>19</th>\n",
       "      <td>14692.66935</td>\n",
       "      <td>13707.972321</td>\n",
       "    </tr>\n",
       "    <tr>\n",
       "      <th>20</th>\n",
       "      <td>1622.18850</td>\n",
       "      <td>13221.552680</td>\n",
       "    </tr>\n",
       "    <tr>\n",
       "      <th>21</th>\n",
       "      <td>13224.69300</td>\n",
       "      <td>12423.402804</td>\n",
       "    </tr>\n",
       "    <tr>\n",
       "      <th>22</th>\n",
       "      <td>1256.29900</td>\n",
       "      <td>12935.423479</td>\n",
       "    </tr>\n",
       "    <tr>\n",
       "      <th>23</th>\n",
       "      <td>2643.26850</td>\n",
       "      <td>13221.552680</td>\n",
       "    </tr>\n",
       "    <tr>\n",
       "      <th>24</th>\n",
       "      <td>1674.63230</td>\n",
       "      <td>13950.429170</td>\n",
       "    </tr>\n",
       "  </tbody>\n",
       "</table>\n",
       "</div>"
      ],
      "text/plain": [
       "         Actual     Predicted\n",
       "0    1633.96180  15772.620396\n",
       "1    8547.69130  12625.199187\n",
       "2    9290.13950  13221.552680\n",
       "3   32548.34050  12890.245184\n",
       "4    9644.25250   9215.743868\n",
       "5    2680.94930   9101.292188\n",
       "6    2198.18985  11705.067915\n",
       "7    1241.56500   9742.823975\n",
       "8    2710.82855  11533.390395\n",
       "9   12235.83920  14766.650364\n",
       "10   8280.62270  13155.291181\n",
       "11  17043.34140  11929.453447\n",
       "12  13974.45555  13250.165600\n",
       "13   8219.20390  12757.722186\n",
       "14   5472.44900  11580.074633\n",
       "15   2438.05520  18953.172355\n",
       "16   5267.81815  11876.745436\n",
       "17   3490.54910  13564.907721\n",
       "18   6640.54485   8843.775907\n",
       "19  14692.66935  13707.972321\n",
       "20   1622.18850  13221.552680\n",
       "21  13224.69300  12423.402804\n",
       "22   1256.29900  12935.423479\n",
       "23   2643.26850  13221.552680\n",
       "24   1674.63230  13950.429170"
      ]
     },
     "execution_count": 35,
     "metadata": {},
     "output_type": "execute_result"
    }
   ],
   "source": [
    "# Create a dataframe comparing the actual and predicted values of y.\n",
    "\n",
    "data = pd.DataFrame({'Actual': y_test.flatten(), 'Predicted': y_predicted.flatten()})\n",
    "data.head(25)"
   ]
  },
  {
   "cell_type": "markdown",
   "id": "a3a23990-04ce-43f5-8b55-c53ab95563eb",
   "metadata": {},
   "source": [
    "Compare how the regression fits the training set"
   ]
  },
  {
   "cell_type": "code",
   "execution_count": 36,
   "id": "9be18023-3e06-48ce-8753-1c2dd00d5381",
   "metadata": {
    "tags": []
   },
   "outputs": [],
   "source": [
    "# Predict.\n",
    "\n",
    "y_predicted_train = regression.predict(X_train) # This is predicting X_train!"
   ]
  },
  {
   "cell_type": "code",
   "execution_count": 37,
   "id": "a57dddcb-8b2a-4284-b230-75e0e2d9c6f5",
   "metadata": {
    "tags": []
   },
   "outputs": [],
   "source": [
    "rmse = mean_squared_error(y_train, y_predicted_train)\n",
    "r2 = r2_score(y_train, y_predicted_train)"
   ]
  },
  {
   "cell_type": "code",
   "execution_count": 38,
   "id": "32219c2a-f22e-4d15-b050-3d85c30058fd",
   "metadata": {
    "tags": []
   },
   "outputs": [
    {
     "name": "stdout",
     "output_type": "stream",
     "text": [
      "Slope: [[301.18863244]]\n",
      "Mean squared error:  135599557.42526153\n",
      "R2 score:  0.02444033897433817\n"
     ]
    }
   ],
   "source": [
    "print('Slope:' ,regression.coef_)\n",
    "print('Mean squared error: ', rmse)\n",
    "print('R2 score: ', r2)"
   ]
  },
  {
   "cell_type": "code",
   "execution_count": 39,
   "id": "bc503107-418b-4058-b2f7-b81e54ea299f",
   "metadata": {
    "tags": []
   },
   "outputs": [
    {
     "data": {
      "image/png": "[encoded data removed]",
      "text/plain": [
       "<Figure size 640x480 with 1 Axes>"
      ]
     },
     "metadata": {},
     "output_type": "display_data"
    }
   ],
   "source": [
    "# Visualizing the training set results.\n",
    "\n",
    "plot_test = plt\n",
    "plot_test.scatter(X_train, y_train, color='green', s = 15)\n",
    "plot_test.plot(X_train, y_predicted_train, color='red', linewidth =3)\n",
    "plot_test.title('Body Mass Index vs Expenses (Train set)')\n",
    "plot_test.xlabel('BMI')\n",
    "plot_test.ylabel('Expenses')\n",
    "plot_test.show()"
   ]
  },
  {
   "cell_type": "markdown",
   "id": "2debb07f-a086-43c0-a182-3ba9f5088057",
   "metadata": {},
   "source": [
    "# Analysis\n",
    "Test Set Data\n",
    "Test Slope: [[301.18863244]]\n",
    "Mean squared error:  154131658.7511644\n",
    "R2 score:  0.05879287466812988\n",
    "\n",
    "\n",
    "Train Set Data\n",
    "Slope: [[301.18863244]]\n",
    "Mean squared error:  135599557.42526153\n",
    "R2 score:  0.02444033897433817\n",
    "\n",
    "Based off this data, it shows that the regression line in this case is a pretty bad representation of the data.  We have a very high MSE (154131658), a R2 score of only 6%, and we can see that predicted numbers are far away from the actual numbers. All these indicators combine to prove that the regression line is not a good fit, and more analysis needs to be done to determine why or see if a different variable instead of BMI would be a better fit for a regression line. \n",
    "\n",
    "In addition, the train set data also shows similar results, and in fact even has a worse R2 (2.4%). This confirms the inaccuracy of our model. This means we can thoroughly disprove our hypothesis that I\"f you have a high BMI, then you are more likely to have higher expenses.\""
   ]
  },
  {
   "cell_type": "code",
   "execution_count": null,
   "id": "e5352e94-fb91-4abf-b365-885fbb9345f8",
   "metadata": {},
   "outputs": [],
   "source": []
  },
  {
   "cell_type": "code",
   "execution_count": null,
   "id": "cb315ef1-d13d-41d2-9205-c6da0c9de5a7",
   "metadata": {},
   "outputs": [],
   "source": []
  },
  {
   "cell_type": "code",
   "execution_count": null,
   "id": "9c94bcfe-2af7-4827-9526-e4387ea29c00",
   "metadata": {},
   "outputs": [],
   "source": []
  },
  {
   "cell_type": "code",
   "execution_count": null,
   "id": "08975644-a01a-41ea-a3df-27a423ea909b",
   "metadata": {},
   "outputs": [],
   "source": []
  },
  {
   "cell_type": "code",
   "execution_count": null,
   "id": "09338999-4678-45e9-92f5-3810b6c71372",
   "metadata": {},
   "outputs": [],
   "source": []
  },
  {
   "cell_type": "code",
   "execution_count": null,
   "id": "77cb9dd9-21f3-4169-bb0f-342182a922dd",
   "metadata": {},
   "outputs": [],
   "source": []
  },
  {
   "cell_type": "code",
   "execution_count": null,
   "id": "f72049f8-015a-4de5-b071-68e1a5173178",
   "metadata": {},
   "outputs": [],
   "source": []
  },
  {
   "cell_type": "code",
   "execution_count": null,
   "id": "2b0101a3-dc35-41c9-8d3f-a842447aacec",
   "metadata": {},
   "outputs": [],
   "source": []
  },
  {
   "cell_type": "code",
   "execution_count": null,
   "id": "75341fff-5d3c-42b2-b95c-0ba99a847eaf",
   "metadata": {},
   "outputs": [],
   "source": []
  },
  {
   "cell_type": "code",
   "execution_count": null,
   "id": "baf3dad6-2611-437b-ac08-e62a98fa929c",
   "metadata": {},
   "outputs": [],
   "source": []
  },
  {
   "cell_type": "code",
   "execution_count": null,
   "id": "c1dfa584-d2f6-4520-8737-3c644464cf8c",
   "metadata": {},
   "outputs": [],
   "source": []
  }
 ],
 "metadata": {
  "kernelspec": {
   "display_name": "Python 3 (ipykernel)",
   "language": "python",
   "name": "python3"
  },
  "language_info": {
   "codemirror_mode": {
    "name": "ipython",
    "version": 3
   },
   "file_extension": ".py",
   "mimetype": "text/x-python",
   "name": "python",
   "nbconvert_exporter": "python",
   "pygments_lexer": "ipython3",
   "version": "3.11.4"
  }
 },
 "nbformat": 4,
 "nbformat_minor": 5
}
