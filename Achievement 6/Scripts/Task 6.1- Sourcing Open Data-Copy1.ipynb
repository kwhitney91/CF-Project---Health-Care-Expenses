{
 "cells": [
  {
   "cell_type": "markdown",
   "id": "85d7aff1-7509-4d39-9e26-8d2a0761796e",
   "metadata": {},
   "source": [
    "#Exercise 6.1 - Data for Project\n",
    "This script contains the following\n",
    "\n",
    "1 - Importing Visualizations and Libraries\n",
    "\n",
    "2- Data Cleaning\n",
    "•\tRenaming Columns\n",
    "•\tChecking/fixing duplicate missing data\n",
    "•\tDescriptive Analysis of Data\n",
    "\n",
    "3- Exporting New dataframes\n"
   ]
  },
  {
   "cell_type": "code",
   "execution_count": 1,
   "id": "10735e1c-bae7-40ed-8bc3-43f84593f243",
   "metadata": {
    "tags": []
   },
   "outputs": [],
   "source": [
    "import pandas as pd\n",
    "import numpy as np\n",
    "import seaborn as sns\n",
    "import matplotlib.pyplot as plt\n",
    "import matplotlib\n",
    "import os"
   ]
  },
  {
   "cell_type": "markdown",
   "id": "155051ab-a7cd-4185-bdc4-56332e43bc59",
   "metadata": {},
   "source": [
    "1. - Import Original Data"
   ]
  },
  {
   "cell_type": "code",
   "execution_count": 2,
   "id": "e757699e-2b1e-4d74-9456-4ca3243af4b3",
   "metadata": {
    "tags": []
   },
   "outputs": [],
   "source": [
    "Path = \"C:/Users/kenwh/Achievement 6\""
   ]
  },
  {
   "cell_type": "code",
   "execution_count": 3,
   "id": "f6fbf133-23f2-4fcc-92da-40085da618c2",
   "metadata": {
    "tags": []
   },
   "outputs": [],
   "source": [
    "#Import Data\n",
    "df = pd.read_csv(os.path.join(Path, '6.1 Original Data.csv'))"
   ]
  },
  {
   "cell_type": "markdown",
   "id": "c0014a95-5cf8-479a-a587-27e15961eabe",
   "metadata": {},
   "source": [
    "# Data Cleaning\n",
    "Renaming Columns"
   ]
  },
  {
   "cell_type": "code",
   "execution_count": 4,
   "id": "ae6d768a-c8a7-456f-86c4-614d2795f4a1",
   "metadata": {
    "tags": []
   },
   "outputs": [
    {
     "data": {
      "text/plain": [
       "(1338, 7)"
      ]
     },
     "execution_count": 4,
     "metadata": {},
     "output_type": "execute_result"
    }
   ],
   "source": [
    "df.shape"
   ]
  },
  {
   "cell_type": "code",
   "execution_count": 5,
   "id": "732b5f97-bbea-48f7-985a-7f84f6b1cd07",
   "metadata": {
    "tags": []
   },
   "outputs": [
    {
     "data": {
      "text/plain": [
       "Index(['age', 'sex', 'bmi', 'children', 'smoker', 'region', 'charges'], dtype='object')"
      ]
     },
     "execution_count": 5,
     "metadata": {},
     "output_type": "execute_result"
    }
   ],
   "source": [
    "df.columns"
   ]
  },
  {
   "cell_type": "code",
   "execution_count": 6,
   "id": "b33a320b-abad-462e-9e5c-b34dd2c0a9ab",
   "metadata": {
    "tags": []
   },
   "outputs": [],
   "source": [
    "#rename columns\n",
    "\n",
    "df.rename(columns = {'age': 'Age', 'sex': 'Gender', 'bmi': 'Body Mass Index',\n",
    "                     'children': 'Number of Children', 'smoker': 'Smoker',\n",
    "                     'region': 'Region of USA', 'charges': 'Expenses' },\n",
    "                      inplace = True)"
   ]
  },
  {
   "cell_type": "code",
   "execution_count": 7,
   "id": "c038e1a1-0e8d-4440-8d0a-88051a2cb0e1",
   "metadata": {
    "tags": []
   },
   "outputs": [
    {
     "data": {
      "text/plain": [
       "Age                     int64\n",
       "Gender                 object\n",
       "Body Mass Index       float64\n",
       "Number of Children      int64\n",
       "Smoker                 object\n",
       "Region of USA          object\n",
       "Expenses              float64\n",
       "dtype: object"
      ]
     },
     "execution_count": 7,
     "metadata": {},
     "output_type": "execute_result"
    }
   ],
   "source": [
    "df.dtypes"
   ]
  },
  {
   "cell_type": "code",
   "execution_count": 8,
   "id": "799bf92a-6f17-4d39-abc1-ca4d71f56e76",
   "metadata": {
    "tags": []
   },
   "outputs": [
    {
     "data": {
      "text/html": [
       "<div>\n",
       "<style scoped>\n",
       "    .dataframe tbody tr th:only-of-type {\n",
       "        vertical-align: middle;\n",
       "    }\n",
       "\n",
       "    .dataframe tbody tr th {\n",
       "        vertical-align: top;\n",
       "    }\n",
       "\n",
       "    .dataframe thead th {\n",
       "        text-align: right;\n",
       "    }\n",
       "</style>\n",
       "<table border=\"1\" class=\"dataframe\">\n",
       "  <thead>\n",
       "    <tr style=\"text-align: right;\">\n",
       "      <th></th>\n",
       "      <th>Age</th>\n",
       "      <th>Gender</th>\n",
       "      <th>Body Mass Index</th>\n",
       "      <th>Number of Children</th>\n",
       "      <th>Smoker</th>\n",
       "      <th>Region of USA</th>\n",
       "      <th>Expenses</th>\n",
       "    </tr>\n",
       "  </thead>\n",
       "  <tbody>\n",
       "    <tr>\n",
       "      <th>0</th>\n",
       "      <td>19</td>\n",
       "      <td>female</td>\n",
       "      <td>27.900</td>\n",
       "      <td>0</td>\n",
       "      <td>yes</td>\n",
       "      <td>southwest</td>\n",
       "      <td>16884.92400</td>\n",
       "    </tr>\n",
       "    <tr>\n",
       "      <th>1</th>\n",
       "      <td>18</td>\n",
       "      <td>male</td>\n",
       "      <td>33.770</td>\n",
       "      <td>1</td>\n",
       "      <td>no</td>\n",
       "      <td>southeast</td>\n",
       "      <td>1725.55230</td>\n",
       "    </tr>\n",
       "    <tr>\n",
       "      <th>2</th>\n",
       "      <td>28</td>\n",
       "      <td>male</td>\n",
       "      <td>33.000</td>\n",
       "      <td>3</td>\n",
       "      <td>no</td>\n",
       "      <td>southeast</td>\n",
       "      <td>4449.46200</td>\n",
       "    </tr>\n",
       "    <tr>\n",
       "      <th>3</th>\n",
       "      <td>33</td>\n",
       "      <td>male</td>\n",
       "      <td>22.705</td>\n",
       "      <td>0</td>\n",
       "      <td>no</td>\n",
       "      <td>northwest</td>\n",
       "      <td>21984.47061</td>\n",
       "    </tr>\n",
       "    <tr>\n",
       "      <th>4</th>\n",
       "      <td>32</td>\n",
       "      <td>male</td>\n",
       "      <td>28.880</td>\n",
       "      <td>0</td>\n",
       "      <td>no</td>\n",
       "      <td>northwest</td>\n",
       "      <td>3866.85520</td>\n",
       "    </tr>\n",
       "  </tbody>\n",
       "</table>\n",
       "</div>"
      ],
      "text/plain": [
       "   Age  Gender  Body Mass Index  Number of Children Smoker Region of USA  \\\n",
       "0   19  female           27.900                   0    yes     southwest   \n",
       "1   18    male           33.770                   1     no     southeast   \n",
       "2   28    male           33.000                   3     no     southeast   \n",
       "3   33    male           22.705                   0     no     northwest   \n",
       "4   32    male           28.880                   0     no     northwest   \n",
       "\n",
       "      Expenses  \n",
       "0  16884.92400  \n",
       "1   1725.55230  \n",
       "2   4449.46200  \n",
       "3  21984.47061  \n",
       "4   3866.85520  "
      ]
     },
     "execution_count": 8,
     "metadata": {},
     "output_type": "execute_result"
    }
   ],
   "source": [
    "df.head()"
   ]
  },
  {
   "cell_type": "code",
   "execution_count": 24,
   "id": "932e039c-da81-48bc-874f-9655f4a1e18e",
   "metadata": {
    "tags": []
   },
   "outputs": [],
   "source": [
    "region_counts = df[\"Region of USA\"].value_counts()"
   ]
  },
  {
   "cell_type": "code",
   "execution_count": 25,
   "id": "1e9e64dc-08be-4551-aecb-d9221c82d561",
   "metadata": {
    "tags": []
   },
   "outputs": [
    {
     "name": "stdout",
     "output_type": "stream",
     "text": [
      "Region of USA\n",
      "southeast    364\n",
      "southwest    325\n",
      "northwest    325\n",
      "northeast    324\n",
      "Name: count, dtype: int64\n"
     ]
    }
   ],
   "source": [
    "print(region_counts)"
   ]
  },
  {
   "cell_type": "markdown",
   "id": "91d34cdb-5947-470e-8eba-abe0fc0f7ac3",
   "metadata": {},
   "source": [
    "# Missing Value Checks"
   ]
  },
  {
   "cell_type": "code",
   "execution_count": 9,
   "id": "b5de7b49-0c95-4803-930d-235a077164c2",
   "metadata": {
    "tags": []
   },
   "outputs": [
    {
     "data": {
      "text/plain": [
       "Age                   0\n",
       "Gender                0\n",
       "Body Mass Index       0\n",
       "Number of Children    0\n",
       "Smoker                0\n",
       "Region of USA         0\n",
       "Expenses              0\n",
       "dtype: int64"
      ]
     },
     "execution_count": 9,
     "metadata": {},
     "output_type": "execute_result"
    }
   ],
   "source": [
    "# check for missing values - No missing values found!\n",
    "df.isnull().sum()"
   ]
  },
  {
   "cell_type": "markdown",
   "id": "a6863129-5afb-4412-86fe-addc5d288ac1",
   "metadata": {},
   "source": [
    "# Duplicate Check"
   ]
  },
  {
   "cell_type": "code",
   "execution_count": 10,
   "id": "011b68d0-47b9-407e-95a2-7cb63c7a1b3a",
   "metadata": {
    "tags": []
   },
   "outputs": [],
   "source": [
    "df_dups = df[df.duplicated()]"
   ]
  },
  {
   "cell_type": "code",
   "execution_count": 11,
   "id": "edfe6097-5cf0-422a-8ee3-5fdb25ef9571",
   "metadata": {
    "tags": []
   },
   "outputs": [
    {
     "data": {
      "text/plain": [
       "(1, 7)"
      ]
     },
     "execution_count": 11,
     "metadata": {},
     "output_type": "execute_result"
    }
   ],
   "source": [
    "df_dups.shape"
   ]
  },
  {
   "cell_type": "code",
   "execution_count": 12,
   "id": "5daae7fe-aa32-4eb4-960c-3f19111208ce",
   "metadata": {
    "tags": []
   },
   "outputs": [
    {
     "data": {
      "text/html": [
       "<div>\n",
       "<style scoped>\n",
       "    .dataframe tbody tr th:only-of-type {\n",
       "        vertical-align: middle;\n",
       "    }\n",
       "\n",
       "    .dataframe tbody tr th {\n",
       "        vertical-align: top;\n",
       "    }\n",
       "\n",
       "    .dataframe thead th {\n",
       "        text-align: right;\n",
       "    }\n",
       "</style>\n",
       "<table border=\"1\" class=\"dataframe\">\n",
       "  <thead>\n",
       "    <tr style=\"text-align: right;\">\n",
       "      <th></th>\n",
       "      <th>Age</th>\n",
       "      <th>Gender</th>\n",
       "      <th>Body Mass Index</th>\n",
       "      <th>Number of Children</th>\n",
       "      <th>Smoker</th>\n",
       "      <th>Region of USA</th>\n",
       "      <th>Expenses</th>\n",
       "    </tr>\n",
       "  </thead>\n",
       "  <tbody>\n",
       "    <tr>\n",
       "      <th>581</th>\n",
       "      <td>19</td>\n",
       "      <td>male</td>\n",
       "      <td>30.59</td>\n",
       "      <td>0</td>\n",
       "      <td>no</td>\n",
       "      <td>northwest</td>\n",
       "      <td>1639.5631</td>\n",
       "    </tr>\n",
       "  </tbody>\n",
       "</table>\n",
       "</div>"
      ],
      "text/plain": [
       "     Age Gender  Body Mass Index  Number of Children Smoker Region of USA  \\\n",
       "581   19   male            30.59                   0     no     northwest   \n",
       "\n",
       "      Expenses  \n",
       "581  1639.5631  "
      ]
     },
     "execution_count": 12,
     "metadata": {},
     "output_type": "execute_result"
    }
   ],
   "source": [
    "df_dups.head()"
   ]
  },
  {
   "cell_type": "code",
   "execution_count": 13,
   "id": "d33a3fb0-0d11-43e6-b73a-527a00f2589e",
   "metadata": {
    "tags": []
   },
   "outputs": [],
   "source": [
    "df_cleaned = df.drop_duplicates()"
   ]
  },
  {
   "cell_type": "code",
   "execution_count": 14,
   "id": "8b256aa9-bb4a-4710-962a-2b3f143f57b1",
   "metadata": {
    "tags": []
   },
   "outputs": [],
   "source": [
    "df_cleaned.reset_index(drop=True, inplace=True)"
   ]
  },
  {
   "cell_type": "code",
   "execution_count": 15,
   "id": "b3d66782-89ab-44f5-a4d2-06e89925b083",
   "metadata": {
    "tags": []
   },
   "outputs": [],
   "source": [
    "df_dupscheck = df_cleaned[df_cleaned.duplicated()]"
   ]
  },
  {
   "cell_type": "code",
   "execution_count": 16,
   "id": "d0b61f83-f02a-4f22-947a-8d57def66de9",
   "metadata": {
    "tags": []
   },
   "outputs": [
    {
     "data": {
      "text/plain": [
       "(0, 7)"
      ]
     },
     "execution_count": 16,
     "metadata": {},
     "output_type": "execute_result"
    }
   ],
   "source": [
    "df_dupscheck.shape"
   ]
  },
  {
   "cell_type": "markdown",
   "id": "d7799772-e3b3-40e6-9459-d89cc6daceb0",
   "metadata": {},
   "source": [
    "Removed one duplicate column"
   ]
  },
  {
   "cell_type": "markdown",
   "id": "c0749bf2-d44c-44bb-b80d-022ca28f5d36",
   "metadata": {},
   "source": [
    "# Descriptive Statistics"
   ]
  },
  {
   "cell_type": "code",
   "execution_count": 17,
   "id": "8d578609-bdde-400b-8d66-9b4776f77ad8",
   "metadata": {
    "tags": []
   },
   "outputs": [
    {
     "name": "stdout",
     "output_type": "stream",
     "text": [
      "Mean: Age                      39.222139\n",
      "Body Mass Index          30.663452\n",
      "Number of Children        1.095737\n",
      "Expenses              13279.121487\n",
      "dtype: float64\n",
      "Median: Age                     39.0000\n",
      "Body Mass Index         30.4000\n",
      "Number of Children       1.0000\n",
      "Expenses              9386.1613\n",
      "dtype: float64\n",
      "Mode: Age                     39.0000\n",
      "Body Mass Index         30.4000\n",
      "Number of Children       1.0000\n",
      "Expenses              9386.1613\n",
      "dtype: float64\n"
     ]
    }
   ],
   "source": [
    "# Calculate descriptive statistics - Mean, Median and Mode\n",
    "print(\"Mean:\", df_cleaned[['Age', 'Body Mass Index', 'Number of Children', 'Expenses']].mean())\n",
    "print(\"Median:\", df_cleaned[['Age', 'Body Mass Index', 'Number of Children', 'Expenses']].median())\n",
    "print(\"Mode:\", df_cleaned[['Age', 'Body Mass Index', 'Number of Children', 'Expenses']].median())"
   ]
  },
  {
   "cell_type": "code",
   "execution_count": 18,
   "id": "cfb38311-c9bd-4917-ab55-2458d9993a4c",
   "metadata": {
    "tags": []
   },
   "outputs": [
    {
     "name": "stdout",
     "output_type": "stream",
     "text": [
      "Smoker counts:\n",
      "Smoker\n",
      "no     1064\n",
      "yes     274\n",
      "Name: count, dtype: int64\n",
      "Region counts:\n",
      "Region of USA\n",
      "southeast    364\n",
      "southwest    325\n",
      "northwest    325\n",
      "northeast    324\n",
      "Name: count, dtype: int64\n"
     ]
    }
   ],
   "source": [
    "#value counts of object columns\n",
    "smoker_counts = df['Smoker'].value_counts()\n",
    "print(\"Smoker counts:\")\n",
    "print(smoker_counts)\n",
    "\n",
    "region_counts = df['Region of USA'].value_counts()\n",
    "print(\"Region counts:\")\n",
    "print(region_counts)"
   ]
  },
  {
   "cell_type": "code",
   "execution_count": 19,
   "id": "a19953b0-96b8-4427-8ef6-25c64b4f992b",
   "metadata": {
    "tags": []
   },
   "outputs": [
    {
     "name": "stdout",
     "output_type": "stream",
     "text": [
      "Smoker  Region of USA\n",
      "no      southeast        273\n",
      "        northwest        267\n",
      "        southwest        267\n",
      "        northeast        257\n",
      "yes     southeast         91\n",
      "        northeast         67\n",
      "        northwest         58\n",
      "        southwest         58\n",
      "Name: count, dtype: int64\n"
     ]
    }
   ],
   "source": [
    "#value counts of object colums combined\n",
    "value_counts = df[['Smoker', 'Region of USA']].value_counts()\n",
    "print(value_counts)"
   ]
  },
  {
   "cell_type": "markdown",
   "id": "0f0a830c-4985-4d8b-8611-64f4b1ff6c65",
   "metadata": {},
   "source": [
    "# Exporting DataFrames "
   ]
  },
  {
   "cell_type": "code",
   "execution_count": 20,
   "id": "4092e245-49a8-423e-ab35-640e045aa699",
   "metadata": {
    "tags": []
   },
   "outputs": [
    {
     "data": {
      "text/plain": [
       "'C:/Users/kenwh/Achievement 6'"
      ]
     },
     "execution_count": 20,
     "metadata": {},
     "output_type": "execute_result"
    }
   ],
   "source": [
    "Path"
   ]
  },
  {
   "cell_type": "code",
   "execution_count": 21,
   "id": "ad48a131-1d8b-4e47-a6ad-901102f91901",
   "metadata": {
    "tags": []
   },
   "outputs": [],
   "source": [
    "df.to_csv(os.path.join(Path,'Data','Original Data','original_data.cvc'))"
   ]
  },
  {
   "cell_type": "code",
   "execution_count": 22,
   "id": "190f6249-e2cb-44ed-a6a1-15aa862ec3ab",
   "metadata": {
    "tags": []
   },
   "outputs": [],
   "source": [
    "df_cleaned.to_csv(os.path.join(Path,'Data','Prepared data','cleaned_data.cvc'))"
   ]
  },
  {
   "cell_type": "code",
   "execution_count": null,
   "id": "f3bfd3ab-21f5-4eb1-be38-c97b89deab11",
   "metadata": {},
   "outputs": [],
   "source": []
  },
  {
   "cell_type": "code",
   "execution_count": null,
   "id": "be775e4b-2fc4-4027-95e8-2b8857a71a8a",
   "metadata": {},
   "outputs": [],
   "source": []
  },
  {
   "cell_type": "code",
   "execution_count": null,
   "id": "cc22a7a8-0c2b-44b1-b89d-333ee5f8252d",
   "metadata": {},
   "outputs": [],
   "source": []
  }
 ],
 "metadata": {
  "kernelspec": {
   "display_name": "Python 3 (ipykernel)",
   "language": "python",
   "name": "python3"
  },
  "language_info": {
   "codemirror_mode": {
    "name": "ipython",
    "version": 3
   },
   "file_extension": ".py",
   "mimetype": "text/x-python",
   "name": "python",
   "nbconvert_exporter": "python",
   "pygments_lexer": "ipython3",
   "version": "3.11.4"
  }
 },
 "nbformat": 4,
 "nbformat_minor": 5
}
